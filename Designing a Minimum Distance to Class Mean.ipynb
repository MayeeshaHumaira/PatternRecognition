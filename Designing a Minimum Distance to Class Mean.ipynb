{
 "cells": [
  {
   "cell_type": "code",
   "execution_count": 1,
   "metadata": {},
   "outputs": [
    {
     "data": {
      "image/png": "[encoded data removed]",
      "text/plain": [
       "<Figure size 432x288 with 1 Axes>"
      ]
     },
     "metadata": {
      "needs_background": "light"
     },
     "output_type": "display_data"
    }
   ],
   "source": [
    "#loading training data\n",
    "#Plotting training data\n",
    "import matplotlib.pyplot as plt\n",
    "import pandas as pd\n",
    "import numpy as np\n",
    "\n",
    "#Plotting training data\n",
    "x,y,z = np.loadtxt('train.txt',unpack=True, delimiter=' ')\n",
    "plt.xlabel('x')\n",
    "plt.ylabel('y')\n",
    "for m in range(len(z)):\n",
    "    #print(m + 1, days[m])\n",
    "    if z[m]==1:\n",
    "        xc1=plt.scatter(x[m], y[m], color='r')\n",
    "    elif z[m]==2:\n",
    "        xc2=plt.scatter(x[m], y[m], marker='*', color='#184DD5')\n",
    "        \n",
    "plt.legend([xc1, xc2], [\"Train class-1\", \"Train class-2\"])\n",
    "plt.show()"
   ]
  },
  {
   "cell_type": "code",
   "execution_count": 2,
   "metadata": {},
   "outputs": [
    {
     "name": "stdout",
     "output_type": "stream",
     "text": [
      "[2.0, 3.0, 3.0, -1.0, 4.0, -2.0]\n",
      "1.5\n",
      "[2.0, 1.0, 3.0, -3.0, 2.0, -2.0]\n",
      "0.5\n",
      "[-4.0, 2.0, 0.0, -2.0, -1.0, -4.0]\n",
      "-1.5\n",
      "[3.0, 6.0, 0.0, 2.0, -1.0, 2.0]\n",
      "2.0\n",
      "[1.5, 0.5]\n",
      "[-1.5, 2.0]\n"
     ]
    }
   ],
   "source": [
    "#x component of mean1\n",
    "m1x=[]\n",
    "for m in range(len(z)):\n",
    "    if z[m]==1:\n",
    "        m1x.extend([x[m]])\n",
    "\n",
    "print(m1x)\n",
    "ux1=np.mean(m1x)\n",
    "print(ux1)\n",
    "#y component of mean1\n",
    "m1y=[]\n",
    "for m in range(len(z)):\n",
    "    if z[m]==1:\n",
    "        m1y.extend([y[m]])\n",
    "        \n",
    "print(m1y)\n",
    "uy1=np.mean(m1y)\n",
    "print(uy1)\n",
    "#x component of mean2\n",
    "m2x=[]\n",
    "for m in range(len(z)):\n",
    "    if z[m]==2:\n",
    "        m2x.extend([x[m]])\n",
    "        \n",
    "print(m2x)\n",
    "ux2=np.mean(m2x)\n",
    "print(ux2)\n",
    "#y component of mean2\n",
    "m2y=[]\n",
    "for m in range(len(z)):\n",
    "    if z[m]==2:\n",
    "        m2y.extend([y[m]])\n",
    "        \n",
    "print(m2y)\n",
    "uy2=np.mean(m2y)\n",
    "print(uy2)\n",
    "\n",
    "#making list of x y components of mean of two classes\n",
    "mean1=[ux1,uy1]\n",
    "print(mean1)\n",
    "mean2=[ux2,uy2]\n",
    "print(mean2)"
   ]
  },
  {
   "cell_type": "code",
   "execution_count": 3,
   "metadata": {},
   "outputs": [
    {
     "data": {
      "image/png": "[encoded data removed]",
      "text/plain": [
       "<Figure size 432x288 with 1 Axes>"
      ]
     },
     "metadata": {
      "needs_background": "light"
     },
     "output_type": "display_data"
    }
   ],
   "source": [
    "#plotting mean of two classes along with training data\n",
    "plt.xlabel('x')\n",
    "plt.ylabel('y')\n",
    "for m in range(len(z)):\n",
    "    if z[m]==1:\n",
    "        xc1=plt.scatter(x[m], y[m], color='r')\n",
    "    elif z[m]==2:\n",
    "        xc2=plt.scatter(x[m], y[m], marker='*', color='#184DD5')\n",
    "\n",
    "xm1=plt.scatter(ux1, uy1, marker='^', color='r')\n",
    "xm2=plt.scatter(ux2,uy2, marker='s', color='#184DD5')\n",
    "plt.legend([xc1, xc2, xm1, xm2], [\"Train class-1\", \"Train class-2\", \"Mean class-1\", \"Mean class-2\"])\n",
    "plt.show()"
   ]
  },
  {
   "cell_type": "code",
   "execution_count": 4,
   "metadata": {},
   "outputs": [
    {
     "data": {
      "image/png": "[encoded data removed]",
      "text/plain": [
       "<Figure size 432x288 with 1 Axes>"
      ]
     },
     "metadata": {
      "needs_background": "light"
     },
     "output_type": "display_data"
    }
   ],
   "source": [
    "#classifying testing data using minimum distance to class mean classifier\n",
    "w = np.loadtxt('test.txt',unpack=False, delimiter=' ')\n",
    "plt.xlabel('x')\n",
    "plt.ylabel('y')\n",
    "for m in range(len(z)):\n",
    "    if z[m]==1:\n",
    "        xc1=plt.scatter(x[m], y[m], color='r')\n",
    "    elif z[m]==2:\n",
    "        xc2=plt.scatter(x[m], y[m], marker='*', color='#184DD5')\n",
    "\n",
    "xm1=plt.scatter(ux1, uy1, marker='^', color='r')\n",
    "xm2=plt.scatter(ux2,uy2, marker='s', color='#184DD5')\n",
    "for i in range(len(w)):\n",
    "    g1=pd.Series(w[i, 0:2]).dot(pd.Series(mean1))-0.5*pd.Series(mean1).dot(pd.Series(mean1))\n",
    "    g2=pd.Series(w[i, 0:2]).dot(pd.Series(mean2))-0.5*pd.Series(mean2).dot(pd.Series(mean2))\n",
    "    if g1>g2:\n",
    "        xt1=plt.scatter(w[i,0], w[i,1], marker='+', color='r')\n",
    "    elif g1<g2:\n",
    "        xt2=plt.scatter(w[i,0],w[i,1], marker='x', color='#184DD5')\n",
    "plt.legend([xc1, xc2, xm1, xm2,xt1,xt2], [\"Train class-1\", \"Train class-2\", \"Mean class-1\", \"Mean class-2\",\n",
    "                                          \"Test class-1\", \"Test class-2\"])\n",
    "plt.show()"
   ]
  },
  {
   "cell_type": "code",
   "execution_count": 8,
   "metadata": {},
   "outputs": [
    {
     "name": "stdout",
     "output_type": "stream",
     "text": [
      "-4.0\n",
      "4.0\n",
      "-4\n",
      "-3\n",
      "-2\n",
      "-1\n",
      "0\n",
      "1\n",
      "2\n",
      "3\n",
      "-1.875\n",
      "[ 3.  -1.5]\n",
      "-1.5\n",
      "[-4.0, -3.7, -3.4, -3.1, -2.8, -2.5, -2.2, -1.9, -1.6, -1.3, -1.0, -0.7, -0.4, -0.1, 0.2, 0.5, 0.8, 1.1, 1.4, 1.7, 2.0, 2.3, 2.6, 2.9, 3.2, 3.5, 3.8]\n"
     ]
    }
   ],
   "source": [
    "#y intercept \n",
    "minx=min(x)\n",
    "print(minx)\n",
    "maxx=max(x)\n",
    "print(maxx)\n",
    "\n",
    "for j in range(int(minx),int(maxx),1):\n",
    "    print(j)\n",
    "\n",
    "s1=pd.Series(mean1).dot(pd.Series(mean1))\n",
    "s2=pd.Series(mean2).dot(pd.Series(mean2))\n",
    "\n",
    "intercept=0.5*(s1-s2)\n",
    "print(intercept)\n",
    "#x-coefficient and y coefficient\n",
    "coeff=np.array(mean1)-np.array(mean2)\n",
    "print(coeff)\n",
    "print(coeff[1])\n",
    "#list of range of x from -4 to 4\n",
    "import decimal\n",
    "def float_range(start, stop, step):\n",
    "  while start < stop:\n",
    "    yield float(start)\n",
    "    start += decimal.Decimal(step)\n",
    "\n",
    "rangex=list(float_range(int(minx), int(maxx), '0.3'))\n",
    "print(rangex)"
   ]
  },
  {
   "cell_type": "code",
   "execution_count": 11,
   "metadata": {},
   "outputs": [
    {
     "name": "stdout",
     "output_type": "stream",
     "text": [
      "[1, 1, 2, 1, 1, 2, 2]\n"
     ]
    },
    {
     "data": {
      "image/png": "[encoded data removed]",
      "text/plain": [
       "<Figure size 432x288 with 1 Axes>"
      ]
     },
     "metadata": {
      "needs_background": "light"
     },
     "output_type": "display_data"
    }
   ],
   "source": [
    "#classifying testing data using minimum distance to class mean classifier\n",
    "w = np.loadtxt('test.txt',unpack=False, delimiter=' ')\n",
    "plt.xlabel('x')\n",
    "plt.ylabel('y')\n",
    "pred=[]\n",
    "for m in range(len(z)):\n",
    "    #print(m + 1, days[m])\n",
    "    if z[m]==1:\n",
    "        plt.scatter(x[m], y[m], color='r')\n",
    "    elif z[m]==2:\n",
    "        plt.scatter(x[m], y[m], marker='*', color='#081F59')\n",
    "\n",
    "plt.scatter(ux1, uy1, marker='^', color='r')\n",
    "plt.scatter(ux2,uy2, marker='s', color='#081F59')\n",
    "for i in range(len(w)):\n",
    "    g1=pd.Series(w[i, 0:2]).dot(pd.Series(mean1))-0.5*pd.Series(mean1).dot(pd.Series(mean1))\n",
    "    g2=pd.Series(w[i, 0:2]).dot(pd.Series(mean2))-0.5*pd.Series(mean2).dot(pd.Series(mean2))\n",
    "    if g1>g2:\n",
    "        plt.scatter(w[i,0], w[i,1], marker='+', color='r')\n",
    "        pred.extend([1])\n",
    "    elif g1<g2:\n",
    "        plt.scatter(w[i,0],w[i,1], marker='x', color='#081F59')\n",
    "        pred.extend([2])\n",
    "        \n",
    "for j in range(len(rangex)):\n",
    "    yval=-(coeff[0]*(rangex[j])+intercept)/coeff[1]\n",
    "    plt.plot(rangex[j],yval, '.b')\n",
    "    #plt.show()\n",
    "   # print(rangex[j])\n",
    "\n",
    "print(pred)"
   ]
  },
  {
   "cell_type": "code",
   "execution_count": 12,
   "metadata": {},
   "outputs": [
    {
     "name": "stdout",
     "output_type": "stream",
     "text": [
      "6\n",
      "7\n",
      "Test accuracy:  85.71428571428571 %\n",
      "Train accuracy:  83.33333333333334 %\n"
     ]
    }
   ],
   "source": [
    "#Testing Accuracy\n",
    "cnt=0\n",
    "for k in range(len(w)):\n",
    "    if pred[k]==w[k][2]:\n",
    "        #print('pred', )\n",
    "        cnt=cnt+1\n",
    "        \n",
    "print(cnt)\n",
    "print(len(w))\n",
    "\n",
    "test_acc=cnt/len(w)*100\n",
    "print(\"Test accuracy: \", test_acc, \"%\") \n",
    "\n",
    "#Training Accuracy\n",
    "train_acc=10/12*100\n",
    "print(\"Train accuracy: \", train_acc, \"%\")"
   ]
  },
  {
   "cell_type": "code",
   "execution_count": 1,
   "metadata": {},
   "outputs": [
    {
     "data": {
      "text/plain": [
       "<sympy.plotting.plot.Plot at 0x232140339c8>"
      ]
     },
     "execution_count": 1,
     "metadata": {},
     "output_type": "execute_result"
    }
   ],
   "source": [
    "from sympy import symbols\n",
    "from sympy.plotting import plot\n",
    "x = symbols('x')\n",
    "p1 = plot(x*x, show=False)\n",
    "p2 = plot(x, show=False)\n",
    "p1.append(p2[0])\n",
    "p1"
   ]
  },
  {
   "cell_type": "code",
   "execution_count": null,
   "metadata": {},
   "outputs": [],
   "source": []
  }
 ],
 "metadata": {
  "kernelspec": {
   "display_name": "Python 3",
   "language": "python",
   "name": "python3"
  },
  "language_info": {
   "codemirror_mode": {
    "name": "ipython",
    "version": 3
   },
   "file_extension": ".py",
   "mimetype": "text/x-python",
   "name": "python",
   "nbconvert_exporter": "python",
   "pygments_lexer": "ipython3",
   "version": "3.7.6"
  }
 },
 "nbformat": 4,
 "nbformat_minor": 4
}
