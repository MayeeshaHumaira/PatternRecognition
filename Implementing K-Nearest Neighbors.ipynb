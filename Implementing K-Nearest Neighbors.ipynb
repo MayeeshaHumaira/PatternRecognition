{
 "cells": [
  {
   "cell_type": "code",
   "execution_count": 1,
   "metadata": {},
   "outputs": [
    {
     "name": "stdout",
     "output_type": "stream",
     "text": [
      "<class 'numpy.ndarray'> [7. 7. 6. 7. 7. 6. 6. 3. 2. 3. 4. 3. 4. 1.]\n",
      "[7. 4. 4. 5. 6. 7. 6. 4. 3. 2. 3. 3. 4. 4.]\n",
      "[1. 1. 1. 1. 1. 1. 1. 2. 2. 2. 2. 2. 2. 2.]\n"
     ]
    }
   ],
   "source": [
    "import matplotlib.pyplot as plt\n",
    "import pandas as pd\n",
    "import numpy as np\n",
    "\n",
    "#Plotting training data\n",
    "xd,yd,zd = np.loadtxt('train_knn.txt',unpack=True, delimiter=',')\n",
    "print(type(xd),xd)\n",
    "print(yd)\n",
    "print(zd)"
   ]
  },
  {
   "cell_type": "code",
   "execution_count": 2,
   "metadata": {},
   "outputs": [
    {
     "name": "stdout",
     "output_type": "stream",
     "text": [
      "(14, 3) 2\n",
      "[[7. 7. 1.]\n",
      " [7. 4. 1.]\n",
      " [6. 4. 1.]\n",
      " [7. 5. 1.]\n",
      " [7. 6. 1.]\n",
      " [6. 7. 1.]\n",
      " [6. 6. 1.]\n",
      " [3. 4. 2.]\n",
      " [2. 3. 2.]\n",
      " [3. 2. 2.]\n",
      " [4. 3. 2.]\n",
      " [3. 3. 2.]\n",
      " [4. 4. 2.]\n",
      " [1. 4. 2.]] <class 'numpy.ndarray'>\n"
     ]
    }
   ],
   "source": [
    "# Train data with class\n",
    "datacl = np.zeros((len(xd),3))\n",
    "print(datacl.shape, datacl.ndim)\n",
    "\n",
    "for h in range(len(xd)):\n",
    "    datacl[h][0]=xd[h]\n",
    "    datacl[h][1]=yd[h]\n",
    "    datacl[h][2]=zd[h]\n",
    "print(datacl, type(datacl))       \n"
   ]
  },
  {
   "cell_type": "code",
   "execution_count": 3,
   "metadata": {},
   "outputs": [
    {
     "data": {
      "image/png": "[encoded data removed]",
      "text/plain": [
       "<Figure size 432x288 with 1 Axes>"
      ]
     },
     "metadata": {
      "needs_background": "light"
     },
     "output_type": "display_data"
    }
   ],
   "source": [
    "plt.xlabel('x')\n",
    "plt.ylabel('y')\n",
    "for m in range(len(zd)):\n",
    "    if datacl[m][2]==1:\n",
    "        xc1=plt.scatter(datacl[m][0], datacl[m][1], color='r')\n",
    "    elif datacl[m][2]==2:\n",
    "        xc2=plt.scatter(datacl[m][0], datacl[m][1], marker='*', color='#184DD5')\n",
    "        \n",
    "plt.legend([xc1, xc2], [\"Train class-1\", \"Train class-2\"])\n",
    "plt.show()"
   ]
  },
  {
   "cell_type": "code",
   "execution_count": 4,
   "metadata": {},
   "outputs": [
    {
     "name": "stdout",
     "output_type": "stream",
     "text": [
      "(9, 2) 2\n",
      "[[3. 7.]\n",
      " [7. 7.]\n",
      " [4. 3.]\n",
      " [2. 8.]\n",
      " [3. 5.]\n",
      " [1. 2.]\n",
      " [4. 8.]\n",
      " [8. 3.]\n",
      " [8. 4.]] <class 'numpy.ndarray'>\n"
     ]
    }
   ],
   "source": [
    "#Test Data before classification\n",
    "xt,yt = np.loadtxt('test_knn.txt',unpack=True, delimiter=',')\n",
    "data = np.zeros((len(xt),2))\n",
    "print(data.shape, data.ndim)\n",
    "\n",
    "for h in range(len(xt)):\n",
    "    data[h][0]=xt[h]\n",
    "    data[h][1]=yt[h]\n",
    "print(data, type(data))      "
   ]
  },
  {
   "cell_type": "code",
   "execution_count": 5,
   "metadata": {},
   "outputs": [
    {
     "name": "stdout",
     "output_type": "stream",
     "text": [
      "Enter your value: 3\n",
      "TestPoint:  3.0 , 7.0\n",
      "Distance 1 :3.000 \tclass: 1.0\n",
      "Distance 2 :3.000 \tclass: 2.0\n",
      "Distance 3 :3.162 \tclass: 1.0\n",
      "Predicted Class: 1\n",
      "\n",
      "TestPoint:  7.0 , 7.0\n",
      "Distance 1 :0.000 \tclass: 1.0\n",
      "Distance 2 :1.000 \tclass: 1.0\n",
      "Distance 3 :1.000 \tclass: 1.0\n",
      "Predicted Class: 1\n",
      "\n",
      "TestPoint:  4.0 , 3.0\n",
      "Distance 1 :0.000 \tclass: 2.0\n",
      "Distance 2 :1.000 \tclass: 2.0\n",
      "Distance 3 :1.000 \tclass: 2.0\n",
      "Predicted Class: 2\n",
      "\n",
      "TestPoint:  2.0 , 8.0\n",
      "Distance 1 :4.123 \tclass: 1.0\n",
      "Distance 2 :4.123 \tclass: 2.0\n",
      "Distance 3 :4.123 \tclass: 2.0\n",
      "Predicted Class: 2\n",
      "\n",
      "TestPoint:  3.0 , 5.0\n",
      "Distance 1 :1.000 \tclass: 2.0\n",
      "Distance 2 :1.414 \tclass: 2.0\n",
      "Distance 3 :2.000 \tclass: 2.0\n",
      "Predicted Class: 2\n",
      "\n",
      "TestPoint:  1.0 , 2.0\n",
      "Distance 1 :1.414 \tclass: 2.0\n",
      "Distance 2 :2.000 \tclass: 2.0\n",
      "Distance 3 :2.000 \tclass: 2.0\n",
      "Predicted Class: 2\n",
      "\n",
      "TestPoint:  4.0 , 8.0\n",
      "Distance 1 :2.236 \tclass: 1.0\n",
      "Distance 2 :2.828 \tclass: 1.0\n",
      "Distance 3 :3.162 \tclass: 1.0\n",
      "Predicted Class: 1\n",
      "\n",
      "TestPoint:  8.0 , 3.0\n",
      "Distance 1 :1.414 \tclass: 1.0\n",
      "Distance 2 :2.236 \tclass: 1.0\n",
      "Distance 3 :2.236 \tclass: 1.0\n",
      "Predicted Class: 1\n",
      "\n",
      "TestPoint:  8.0 , 4.0\n",
      "Distance 1 :1.000 \tclass: 1.0\n",
      "Distance 2 :1.414 \tclass: 1.0\n",
      "Distance 3 :2.000 \tclass: 1.0\n",
      "Predicted Class: 1\n",
      "\n"
     ]
    }
   ],
   "source": [
    "k = input(\"Enter your value: \") \n",
    "k=int(k)\n",
    "cl=[]\n",
    "# calculate the Euclidean distance between two vectors\n",
    "def euclidean_distance(row1, row2):\n",
    "    distance = 0.0\n",
    "    for i in range(len(row1)-1):\n",
    "        distance += (row1[i] - row2[i])**2\n",
    "    return np.sqrt(distance)\n",
    "\n",
    "# Locate the most similar neighbors\n",
    "def get_neighbors(train, test_row, num_neighbors):\n",
    "    distances = list()\n",
    "    for train_row in train:\n",
    "        dist = euclidean_distance(train_row, test_row)\n",
    "        distances.append((train_row, dist))\n",
    "        #index[1]=dist \n",
    "    distances.sort(key=lambda index: index[1])\n",
    "    neighbors = list()\n",
    "    for i in range(num_neighbors):\n",
    "        neighbors.append((distances[i][0],distances[i][1]))\n",
    "    return neighbors\n",
    "\n",
    "# Make a classification prediction with neighbors\n",
    "def predict_classification(train, test_row, num_neighbors):\n",
    "    neighbors = get_neighbors(train, test_row, num_neighbors)\n",
    "    cnt=0\n",
    "    print('TestPoint: ',test_row[0],',',test_row[1])\n",
    "    for neighbor in neighbors:\n",
    "        cnt=cnt+1\n",
    "        print('Distance',cnt,':%.3f'%neighbor[1],'\\tclass:',neighbor[0][-1])\n",
    "    output_values = [row[0][-1] for row in neighbors]\n",
    "    #max among set of clases count\n",
    "    prediction = max(set(output_values), key=output_values.count)\n",
    "    return prediction\n",
    "\n",
    "for n in range(len(data)):\n",
    "    prediction = predict_classification(datacl, data[n], k)\n",
    "    cl.append(prediction)\n",
    "    print('Predicted Class: %d' % (prediction))\n",
    "    print()\n",
    "\n"
   ]
  },
  {
   "cell_type": "code",
   "execution_count": 6,
   "metadata": {},
   "outputs": [
    {
     "name": "stdout",
     "output_type": "stream",
     "text": [
      "[[3. 7. 1.]\n",
      " [7. 7. 1.]\n",
      " [4. 3. 2.]\n",
      " [2. 8. 2.]\n",
      " [3. 5. 2.]\n",
      " [1. 2. 2.]\n",
      " [4. 8. 1.]\n",
      " [8. 3. 1.]\n",
      " [8. 4. 1.]] <class 'numpy.ndarray'>\n"
     ]
    }
   ],
   "source": [
    "#test data with predicted class\n",
    "dataP = np.zeros((len(data),3))\n",
    "\n",
    "for h in range(len(data)):\n",
    "    dataP[h][0]=data[h][0]\n",
    "    dataP[h][1]=data[h][1]\n",
    "    dataP[h][2]=cl[h]\n",
    "print(dataP, type(dataP))       \n"
   ]
  },
  {
   "cell_type": "code",
   "execution_count": 10,
   "metadata": {},
   "outputs": [
    {
     "data": {
      "image/png": "[encoded data removed]",
      "text/plain": [
       "<Figure size 432x288 with 1 Axes>"
      ]
     },
     "metadata": {
      "needs_background": "light"
     },
     "output_type": "display_data"
    }
   ],
   "source": [
    "plt.xlabel('x')\n",
    "plt.ylabel('y')\n",
    "for m in range(len(datacl)):\n",
    "    if datacl[m][2]==1:\n",
    "        xc1=plt.scatter(datacl[m][0], datacl[m][1], color='red')\n",
    "    elif datacl[m][2]==2:\n",
    "        xc2=plt.scatter(datacl[m][0], datacl[m][1], marker='*', color='#184DD5')\n",
    "        \n",
    "for n in range(len(dataP)):\n",
    "    if dataP[n][2]==1:\n",
    "        xtc1=plt.scatter(dataP[n][0], dataP[n][1],marker='x', color='magenta')\n",
    "    elif dataP[n][2]==2:\n",
    "        xtc2=plt.scatter(dataP[n][0], dataP[n][1], marker='s', color='green')\n",
    "        \n",
    "plt.legend([xc1, xc2, xtc1, xtc2], [\"Train class-1\", \"Train class-2\", \"Test class-1\", \"Test class-2\"])\n",
    "plt.show()"
   ]
  },
  {
   "cell_type": "code",
   "execution_count": null,
   "metadata": {},
   "outputs": [],
   "source": []
  }
 ],
 "metadata": {
  "kernelspec": {
   "display_name": "Python 3",
   "language": "python",
   "name": "python3"
  },
  "language_info": {
   "codemirror_mode": {
    "name": "ipython",
    "version": 3
   },
   "file_extension": ".py",
   "mimetype": "text/x-python",
   "name": "python",
   "nbconvert_exporter": "python",
   "pygments_lexer": "ipython3",
   "version": "3.7.6"
  }
 },
 "nbformat": 4,
 "nbformat_minor": 4
}
